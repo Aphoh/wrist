{
 "cells": [
  {
   "cell_type": "code",
   "execution_count": null,
   "metadata": {},
   "outputs": [],
   "source": [
    "import pandas as pd\n",
    "import matplotlib.pyplot as plt\n",
    "import numpy as np\n",
    "\n",
    "# Load the data\n",
    "file_path = './output_strided_3.csv'  # Replace with your file path\n",
    "data = pd.read_csv(file_path)\n",
    "\n",
    "# Filter for `reduce_scatter` operation\n",
    "reduce_scatter_data = data[data['operation'] == 'reduce_scatter']\n",
    "\n",
    "# Log transformations\n",
    "reduce_scatter_data['log2_data_size'] = np.log2(reduce_scatter_data['data_size_mb'])\n",
    "reduce_scatter_data['log10_duration'] = np.log10(reduce_scatter_data['duration_sec'])\n",
    "\n",
    "# Define colors based on `stride` values from `num_gpus=2` to ensure consistency\n",
    "reference_data = reduce_scatter_data[reduce_scatter_data['num_gpus'] == 2]\n",
    "stride_colors = {stride: color for stride, color in zip(reference_data['stride'].unique(), plt.cm.tab10(np.linspace(0, 1, len(reference_data['stride'].unique()))))}\n",
    "\n",
    "# Set up subplots with shared y-axis\n",
    "num_gpus_list = reduce_scatter_data['num_gpus'].unique()\n",
    "fig, axes = plt.subplots(1, len(num_gpus_list), figsize=(9, 3), sharey=True, dpi=500)\n",
    "\n",
    "for ax, num_gpus in zip(axes, num_gpus_list):\n",
    "    gpu_data = reduce_scatter_data[reduce_scatter_data['num_gpus'] == num_gpus]\n",
    "    \n",
    "    for stride, color in stride_colors.items():\n",
    "        stride_data = gpu_data[gpu_data['stride'] == stride]\n",
    "        \n",
    "        # Scatter plot for samples with matching color\n",
    "        ax.scatter(\n",
    "            stride_data['log2_data_size'], \n",
    "            stride_data['log10_duration'], \n",
    "            alpha=0.6, color=color, s=10,\n",
    "            marker='x'\n",
    "        )\n",
    "        \n",
    "        # Average line plot with matching color\n",
    "        avg_duration = stride_data.groupby('log2_data_size')['log10_duration'].mean()\n",
    "        ax.plot(avg_duration.index, avg_duration.values, color=color, linewidth=2)\n",
    "    \n",
    "    # Plot settings for each subplot\n",
    "    ax.set_title(f'Group Size: {num_gpus}')\n",
    "    ax.set_xlabel('log2(Data Size in MB)')\n",
    "    ax.grid(True)\n",
    "\n",
    "# Shared y-axis label\n",
    "fig.text(0.00, 0.5, 'log10(Runtime in seconds)', va='center', rotation='vertical')\n",
    "\n",
    "# Single legend for all subplots\n",
    "handles = [plt.Line2D([0], [0], color=color, lw=2, label=f'Stride {stride}') for stride, color in stride_colors.items()]\n",
    "fig.legend(handles=handles, bbox_to_anchor=(1.00, 0.5), loc='center left', title=\"Stride\")\n",
    "\n",
    "plt.tight_layout()\n",
    "plt.show()\n"
   ]
  }
 ],
 "metadata": {
  "kernelspec": {
   "display_name": ".venv",
   "language": "python",
   "name": "python3"
  },
  "language_info": {
   "codemirror_mode": {
    "name": "ipython",
    "version": 3
   },
   "file_extension": ".py",
   "mimetype": "text/x-python",
   "name": "python",
   "nbconvert_exporter": "python",
   "pygments_lexer": "ipython3",
   "version": "-1.-1.-1"
  }
 },
 "nbformat": 4,
 "nbformat_minor": 2
}
